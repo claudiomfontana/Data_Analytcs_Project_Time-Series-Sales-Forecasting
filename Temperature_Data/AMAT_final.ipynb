{
 "cells": [
  {
   "cell_type": "markdown",
   "id": "9b192b55-4667-417d-b858-e37b171eed7a",
   "metadata": {},
   "source": [
    "## Avarage Maximum Air Temperature (AMAT)"
   ]
  },
  {
   "cell_type": "code",
   "execution_count": 1,
   "id": "e72efaf2-2f91-4997-a671-587619e2866d",
   "metadata": {},
   "outputs": [],
   "source": [
    "import pandas as pd\n",
    "import matplotlib.pyplot as plt\n",
    "import numpy as np\n",
    "from statsmodels.tsa.statespace.sarimax import SARIMAX\n",
    "import warnings\n",
    "import itertools\n"
   ]
  },
  {
   "cell_type": "markdown",
   "id": "a8e058de-0f6d-4287-a78a-776178c5cffe",
   "metadata": {},
   "source": [
    "### Data collected"
   ]
  },
  {
   "cell_type": "code",
   "execution_count": 2,
   "id": "60f2a024-183c-43a8-b897-e15722a7bcae",
   "metadata": {},
   "outputs": [],
   "source": [
    "# Data collected from https://www.cpa.unicamp.br/graficos\n",
    "months = [1, 2, 3, 4, 5, 6, 7, 8, 9, 10, 11, 12]\n",
    "historical_average = [25.2, 25.3, 24.7, 22.3, 19.4, 18.2, 18.3, 20.4, 22.7, 24.1, 24.0, 24.9]\n",
    "average_2017 = [26.00, 26.00, 23.00, 23.00, 20.00, 18.00, 17.00, 21.00, 23.00, 25.00, 22.00, 25.00]\n",
    "average_2018 = [24.18, 25.39, 26.13, 22.30, 19.18, 21.40, 18.51, 19.88, 21.87, 23.62, 24.00, 24.00]\n",
    "average_2019 = [26.58, 26.0, 24.86, 23.5, 20.68, 19.23, 17.41, 21.14, 24.5, 25.73, 24.9, 24.9]\n",
    "average_2020_partial = [np.nan, np.nan, np.nan, np.nan, np.nan, np.nan, np.nan, np.nan, 26.12, 26.13, 23.44, 25.15]\n",
    "average_2021 = [25.41, 25.3, 24.19, 21.34, 18.99, 20.07, 20.2, 22.78, 24.95, 23.43, 23.51, 23.46]\n",
    "average_2022 = [25.27, 24.99, 24.84, 21.84, 17.48, 18.4, 18.96, 20.46, 22.04, 24.4, 22.0, 24.56]\n",
    "average_2023 = [24.91, 24.96, 25.14, 21.51, 19.49, 18.34, 19.41, 22.82, 24.54, 25.27, 26.02, 26.18]\n",
    "average_2024 = [25.84, 25.46, 26.12, 24.05, 22.0, 21.04, 20.08, 19.9, 25.87, 26.42, 24.17, 25.16]\n",
    "average_2025_partial = [25.0, 26.08, 25.03, 23.04, 18.4, 16.05, 18.9, 19.1, np.nan, np.nan, np.nan, np.nan]"
   ]
  },
  {
   "cell_type": "markdown",
   "id": "268c0796-2adf-426f-adf8-77f4d5c33d02",
   "metadata": {},
   "source": [
    "The data of average_2017 and average_2018 were inserted to support the imputation of missing temperature values in early 2020 and to generate a robust forecast for the final months of 2025."
   ]
  },
  {
   "cell_type": "markdown",
   "id": "e3556cf5-8fbc-47c3-96e9-e2cc2052d158",
   "metadata": {},
   "source": [
    "### SARIMA Parameter Optimization and Model Training"
   ]
  },
  {
   "cell_type": "code",
   "execution_count": 3,
   "id": "5cae107c-373e-4729-b217-85fb20cdbf55",
   "metadata": {},
   "outputs": [
    {
     "name": "stdout",
     "output_type": "stream",
     "text": [
      "Best SARIMA parameters found:: ((0, 1, 1), (1, 1, 1, 12)) with AIC of 189.51\n"
     ]
    }
   ],
   "source": [
    "# Ignoring warnings for cleaner output\n",
    "warnings.filterwarnings(\"ignore\")\n",
    "# Combining all data into a single list\n",
    "complete_temperatures = average_2019 + average_2020_partial + average_2021 + average_2022 + average_2023 + average_2024 + average_2025_partial\n",
    "complete_dates = pd.date_range(start='2017-01', periods=len(complete_temperatures), freq='ME')\n",
    "time_series = pd.Series(complete_temperatures, index=complete_dates)\n",
    "\n",
    "# Parameter Optimization (Grid Search)\n",
    "p = d = q = range(0, 2)\n",
    "P = D = Q = range(0, 2)\n",
    "s = 12\n",
    "\n",
    "pdq = list(itertools.product(p, d, q))\n",
    "seasonal_pdq = [(x[0], x[1], x[2], s) for x in list(itertools.product(P, D, Q))]\n",
    "\n",
    "best_aic = float('inf')\n",
    "best_parameters = None\n",
    "\n",
    "for param in pdq:\n",
    "    for param_seasonal in seasonal_pdq:\n",
    "        try:\n",
    "            sarima_model = SARIMAX(time_series,\n",
    "                                    order=param,\n",
    "                                    seasonal_order=param_seasonal,\n",
    "                                    enforce_stationarity=False,\n",
    "                                    enforce_invertibility=False)\n",
    "            result = sarima_model.fit(disp=False)\n",
    "\n",
    "            if result.aic < best_aic:\n",
    "                best_aic = result.aic\n",
    "                best_parameters = (param, param_seasonal)\n",
    "        except Exception as e:\n",
    "            continue\n",
    "\n",
    "# Error checking\n",
    "if best_parameters is None:\n",
    "    print(\"Erro: No valid SARIMA parameter set found.\")\n",
    "else:\n",
    "    print(f\"Best SARIMA parameters found:: {best_parameters} with AIC of {best_aic:.2f}\")\n",
    "\n",
    "    # Training the model with the best parameters\n",
    "    optimized_model = SARIMAX(time_series,\n",
    "                               order=best_parameters[0],\n",
    "                               seasonal_order=best_parameters[1],\n",
    "                               enforce_stationarity=False,\n",
    "                               enforce_invertibility=False)\n",
    "    optimized_result = optimized_model.fit(disp=False)"
   ]
  },
  {
   "cell_type": "markdown",
   "id": "2285c2b2-0d06-4233-b49f-01df1950e62b",
   "metadata": {},
   "source": [
    "### 2020 - Temperature data for the first 8 months was imputed using time series analysis."
   ]
  },
  {
   "cell_type": "code",
   "execution_count": 4,
   "id": "32080c58-8b55-47db-88bb-edf736da1a72",
   "metadata": {},
   "outputs": [
    {
     "name": "stdout",
     "output_type": "stream",
     "text": [
      "\n",
      "Average_2020 with new values imputed for the first 8 months of 2020:\n",
      "[24.52, 24.75, 23.75, 22.06, 19.42, 18.6, 17.72, 21.31, 26.12, 26.13, 23.44, 25.15]\n"
     ]
    }
   ],
   "source": [
    "    # Generating the new forecasts\n",
    "    forecast_2020_df = optimized_result.get_prediction(start='2020-01-31', end='2020-08-31')\n",
    "    forecast_2020 = forecast_2020_df.predicted_mean.round(2).tolist()\n",
    "\n",
    "    average_2020 = forecast_2020 + average_2020_partial[8:]\n",
    "\n",
    "    # Displaying t e new results\n",
    "    print(\"\\nAverage_2020 with new values imputed for the first 8 months of 2020:\")\n",
    "    print(average_2020)"
   ]
  },
  {
   "cell_type": "markdown",
   "id": "e58bbbe1-6e64-4166-8fdc-d28938dec892",
   "metadata": {},
   "source": [
    "### 2025 - Temperature data for the forecast for the last 4 months.\n",
    "With new predicition for ajust on dec 2025"
   ]
  },
  {
   "cell_type": "code",
   "execution_count": 5,
   "id": "96f88379-ce7d-4657-8bc4-67c13bb4d15d",
   "metadata": {},
   "outputs": [
    {
     "name": "stdout",
     "output_type": "stream",
     "text": [
      "Original forecast 2025:\n",
      "[25.0, 26.08, 25.03, 23.04, 18.4, 16.05, 18.9, 19.1, 24.07, 24.18, 23.78, 21.3]\n",
      "\n",
      "Historical average temperature for the month of December: 24.80°C\n",
      "\n",
      "2025 forecast with December value adjusted to historical average:\n",
      "[25.0, 26.08, 25.03, 23.04, 18.4, 16.05, 18.9, 19.1, 24.07, 24.18, 23.78, 24.8]\n"
     ]
    }
   ],
   "source": [
    "forecast_2025 = result.forecast(steps=4).round(2).tolist()\n",
    "\n",
    "average_2025 = average_2025_partial[:8] + forecast_2025\n",
    "\n",
    "average_2025 = average_2025_partial[:8] + forecast_2025\n",
    "print(\"Original forecast 2025:\")\n",
    "print(average_2025)\n",
    "\n",
    "# 1. Collects temperature values for December each year\n",
    "december_temps = [\n",
    "    average_2017[11],\n",
    "    average_2018[11],\n",
    "    average_2019[11],\n",
    "    average_2020_partial[11],\n",
    "    average_2021[11],\n",
    "    average_2022[11],\n",
    "    average_2023[11],\n",
    "    average_2024[11],\n",
    "]\n",
    "\n",
    "# 2. Automatically calculates the historical average for December, ignoring null values\n",
    "historical_dec_avg = sum(december_temps) / len(december_temps)\n",
    "\n",
    "print(f\"\\nHistorical average temperature for the month of December: {historical_dec_avg:.2f}°C\")\n",
    "\n",
    "# 3. Adjusts the forecast for December 2025 (last value in the list)\n",
    "historical_dec_avg = round(historical_dec_avg, 2)\n",
    "average_2025[-1] = historical_dec_avg\n",
    "\n",
    "print(\"\\n2025 forecast with December value adjusted to historical average:\")\n",
    "print(average_2025)"
   ]
  },
  {
   "cell_type": "markdown",
   "id": "d8e9bcb7-9d14-47e2-ba22-2f5316490096",
   "metadata": {},
   "source": [
    "### Creating DataFrame with all temperatures"
   ]
  },
  {
   "cell_type": "code",
   "execution_count": 6,
   "id": "6a4f1600-9051-474c-9745-86997aedd547",
   "metadata": {},
   "outputs": [
    {
     "name": "stdout",
     "output_type": "stream",
     "text": [
      "DataFrame 'df_temperatures' in the desired format:\n",
      "   month  year   temp\n",
      "0      1  2019  26.58\n",
      "1      2  2019  26.00\n",
      "2      3  2019  24.86\n",
      "3      4  2019  23.50\n",
      "4      5  2019  20.68\n",
      "5      6  2019  19.23\n",
      "6      7  2019  17.41\n",
      "7      8  2019  21.14\n",
      "8      9  2019  24.50\n",
      "9     10  2019  25.73\n",
      "\n",
      "File 'temperature_long_format.csv' read successfully.\n",
      "Columns in the CSV file: ['month', 'year', 'temp']\n",
      "\n",
      "First 5 rows of the generated CSV file:\n",
      "   month  year   temp\n",
      "0      1  2019  26.58\n",
      "1      2  2019  26.00\n",
      "2      3  2019  24.86\n",
      "3      4  2019  23.50\n",
      "4      5  2019  20.68\n"
     ]
    }
   ],
   "source": [
    "# Mapping the data for each year\n",
    "temperature_data = {\n",
    "    2019: average_2019,\n",
    "    2020: average_2020,\n",
    "    2021: average_2021,\n",
    "    2022: average_2022,\n",
    "    2023: average_2023,\n",
    "    2024: average_2024,\n",
    "    2025: average_2025,\n",
    "}\n",
    "\n",
    "df_temperatures_original = pd.DataFrame(temperature_data)\n",
    "df_temperatures_original.index = [1, 2, 3, 4, 5, 6, 7, 8, 9, 10, 11, 12]\n",
    "\n",
    "# 1. Resets the index so that the month names become one column\n",
    "df_temperatures_original.reset_index(inplace=True)\n",
    "df_temperatures_original.rename(columns={'index': 'month'}, inplace=True)\n",
    "\n",
    "# 2. Use the melt() function to transform the DataFrame\n",
    "df_temperatures = df_temperatures_original.melt(\n",
    "    id_vars=['month'], \n",
    "    var_name='year', \n",
    "    value_name='temp'\n",
    ")\n",
    "\n",
    "df_temperatures['year'] = pd.to_numeric(df_temperatures['year'])\n",
    "\n",
    "# 3. Ensures that 'year' is a numeric type\n",
    "df_temperatures['year'] = pd.to_numeric(df_temperatures['year'])\n",
    "\n",
    "# Display the new DataFrame\n",
    "print(\"DataFrame 'df_temperatures' in the desired format:\")\n",
    "print(df_temperatures.head(10))\n",
    "\n",
    "\n",
    "dic_csv_params = {'sep': ';', 'encoding': 'utf-8', 'decimal': ','}\n",
    "df_temperatures.to_csv('temperature_long_format.csv', **dic_csv_params, index=False)\n",
    "\n",
    "# Verification step: read the file back to confirm the column names\n",
    "try:\n",
    "    df_verify = pd.read_csv('temperature_long_format.csv', **dic_csv_params)\n",
    "    print(\"\\nFile 'temperature_long_format.csv' read successfully.\")\n",
    "    print(\"Columns in the CSV file:\", df_verify.columns.tolist())\n",
    "    print(\"\\nFirst 5 rows of the generated CSV file:\")\n",
    "    print(df_verify.head())\n",
    "except Exception as e:\n",
    "    print(f\"An error occurred while reading the file: {e}\")"
   ]
  },
  {
   "cell_type": "markdown",
   "id": "531b1b7e-5dff-4ac5-a16a-409adc43ae36",
   "metadata": {},
   "source": [
    "### Generating files for each graph comparing with the previous year and the historical average from 1990 to 2024"
   ]
  },
  {
   "cell_type": "code",
   "execution_count": 7,
   "id": "5e6da6fe-34e0-412c-bb4d-a7a1f8df5c8f",
   "metadata": {},
   "outputs": [
    {
     "name": "stdout",
     "output_type": "stream",
     "text": [
      "Saved chart: comparison_temperature_2020_vs_2019.png\n",
      "Saved chart: comparison_temperature_2021_vs_2020.png\n",
      "Saved chart: comparison_temperature_2022_vs_2021.png\n",
      "Saved chart: comparison_temperature_2023_vs_2022.png\n",
      "Saved chart: comparison_temperature_2024_vs_2023.png\n",
      "Saved chart: comparison_temperature_2025_vs_2024.png\n"
     ]
    }
   ],
   "source": [
    "# Dictionary with data from the years to facilitate access\n",
    "years_data = temperature_data\n",
    "\n",
    "# Generating individual graphs\n",
    "\n",
    "for current_year in range(2020, 2026):\n",
    "    last_year = current_year - 1\n",
    "    \n",
    "    plt.figure(figsize=(10, 6))\n",
    "    \n",
    "    # Plotting the previous year\n",
    "    plt.plot(months, temperature_data[last_year], marker='o', label=f'Average {last_year}', color='black')\n",
    "    plt.plot(historical_average, marker='o', label=f'Historical Average 1990-2024', color='red', alpha=0.4)\n",
    "    \n",
    "    # Plotting the current year, with treatment for the imputed/predicted data\n",
    "    if current_year == 2020:\n",
    "        #2020: Dashed line for imputation (Jan-Aug) and solid line for actual (Sep-Dec)\n",
    "        plt.plot(months[:8], years_data[current_year][:8], marker='o', label=f'Average {current_year} (Imputed)', color='blue', linestyle=':')\n",
    "        plt.plot(months[7:], years_data[current_year][7:], marker='o', color='blue', linestyle='-')\n",
    "       \n",
    "    elif current_year == 2025:\n",
    "        #2025: Solid line for actual data (Jan-Aug) and dashed for forecast (Sep-Dec)\n",
    "        plt.plot(months[:8], years_data[current_year][:8], marker='o', label=f'Average {current_year} (Forecast)', color='blue', linestyle='-')\n",
    "        plt.plot(months[7:], years_data[current_year][7:], marker='o', color='blue', linestyle=':')\n",
    "        \n",
    "    else:\n",
    "        # Other years: Solid line\n",
    "        plt.plot(months, years_data[current_year], marker='o', label=f'Average {current_year}', color='blue')\n",
    "       \n",
    "                \n",
    "    plt.title(f'Temperature Comparison: {current_year} vs. {last_year}')\n",
    "    plt.xlabel('Month')\n",
    "    plt.ylabel('Temperature (°C)')\n",
    "    plt.grid(True, linestyle='--', alpha=0.6)\n",
    "    plt.ylim(0, 40)\n",
    "    plt.legend(loc='upper center', bbox_to_anchor=(0.5, 1.15), ncol=3)\n",
    "    plt.tight_layout(rect=[0, 0.05, 1, 0.95])\n",
    "\n",
    "    # Save the graph to a file with a dynamic name\n",
    "    file_name = f'comparison_temperature_{current_year}_vs_{last_year}.png'\n",
    "    plt.savefig(file_name)\n",
    "    print(f'Saved chart: {file_name}')\n",
    "\n",
    "    plt.close() # Close the figure to avoid overloading memory\n"
   ]
  },
  {
   "cell_type": "code",
   "execution_count": null,
   "id": "f3d4e6dd-7adb-4b8b-8856-f478152452d4",
   "metadata": {},
   "outputs": [],
   "source": []
  },
  {
   "cell_type": "code",
   "execution_count": null,
   "id": "de5d7360-09da-4266-8dbb-cc87de587b8f",
   "metadata": {},
   "outputs": [],
   "source": []
  }
 ],
 "metadata": {
  "kernelspec": {
   "display_name": "Python 3 (ipykernel)",
   "language": "python",
   "name": "python3"
  },
  "language_info": {
   "codemirror_mode": {
    "name": "ipython",
    "version": 3
   },
   "file_extension": ".py",
   "mimetype": "text/x-python",
   "name": "python",
   "nbconvert_exporter": "python",
   "pygments_lexer": "ipython3",
   "version": "3.13.5"
  }
 },
 "nbformat": 4,
 "nbformat_minor": 5
}
